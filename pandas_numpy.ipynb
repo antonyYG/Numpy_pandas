{
  "nbformat": 4,
  "nbformat_minor": 0,
  "metadata": {
    "colab": {
      "provenance": [],
      "authorship_tag": "ABX9TyOlxTER4ueS6Xhkcjudqgq3",
      "include_colab_link": true
    },
    "kernelspec": {
      "name": "python3",
      "display_name": "Python 3"
    },
    "language_info": {
      "name": "python"
    }
  },
  "cells": [
    {
      "cell_type": "markdown",
      "metadata": {
        "id": "view-in-github",
        "colab_type": "text"
      },
      "source": [
        "<a href=\"https://colab.research.google.com/github/antonyYG/Numpy_pandas/blob/main/pandas_numpy.ipynb\" target=\"_parent\"><img src=\"https://colab.research.google.com/assets/colab-badge.svg\" alt=\"Open In Colab\"/></a>"
      ]
    },
    {
      "cell_type": "markdown",
      "source": [
        "Ejercicio 1\n",
        "Programa que pregunte al usuario por las ventas de un rango de años y muestre por pantalla na serie con los datos de las ventas indexada por los años antes y despues de aplicarles un descuento del 5%"
      ],
      "metadata": {
        "id": "lfcdv6R20R1q"
      }
    },
    {
      "cell_type": "code",
      "execution_count": 38,
      "metadata": {
        "colab": {
          "base_uri": "https://localhost:8080/"
        },
        "id": "GCBSHtmts2Ps",
        "outputId": "e2bd6fd5-1aec-44f7-9452-a7c15a15659b"
      },
      "outputs": [
        {
          "output_type": "stream",
          "name": "stdout",
          "text": [
            "Ingrese el año inicial: 2000123123541514351435511\n",
            "Ingrese el año final: 2050\n",
            "Ingrese las ventas del año 2040: 12\n",
            "Ingrese las ventas del año 2042: 2\n",
            "Ingrese las ventas del año 2044: 2\n",
            "Ingrese las ventas del año 2046: 2\n",
            "Ingrese las ventas del año 2048: 2\n",
            "Ingrese las ventas del año 2050: 2\n",
            "Ventas\n",
            " 2040    12.0\n",
            "2042     2.0\n",
            "2044     2.0\n",
            "2046     2.0\n",
            "2048     2.0\n",
            "2050     2.0\n",
            "dtype: float64\n",
            "Ventas con descuento\n",
            " 2040    0.6\n",
            "2042    0.1\n",
            "2044    0.1\n",
            "2046    0.1\n",
            "2048    0.1\n",
            "2050    0.1\n",
            "dtype: float64\n"
          ]
        }
      ],
      "source": [
        "import pandas as pd\n",
        "\n",
        "inicio = int(input(\"Ingrese el año inicial: \"))\n",
        "fin = int(input(\"Ingrese el año final: \"))\n",
        "a = fin -10\n",
        "if a %2 != 0:\n",
        "  a = a +1\n",
        "inicio =a\n",
        "ventas = {}\n",
        "for i in range(inicio, fin+1,2):\n",
        "  ventas[i] = float(input(\"Ingrese las ventas del año \" + str(i) +': '))\n",
        "ventas = pd.Series(ventas)\n",
        "print(\"Ventas\\n\" , ventas)\n",
        "print(\"Ventas con descuento\\n\", (ventas*0.05))"
      ]
    },
    {
      "cell_type": "markdown",
      "source": [
        "Ejercicio 2:\n",
        "Calculo de estadisticas basicas: meida, mediana , desviacion estandar - numpy para el dataframe"
      ],
      "metadata": {
        "id": "fodShX0yD-Dh"
      }
    },
    {
      "cell_type": "code",
      "source": [
        "import pandas as pd\n",
        "import numpy as np"
      ],
      "metadata": {
        "id": "JxbQRf1mD6yz"
      },
      "execution_count": 39,
      "outputs": []
    },
    {
      "cell_type": "code",
      "source": [
        "#Crear un dataframe\n",
        "data = {\n",
        "    'Nombre': ['Jose','Juan','Maria','Pedro'],\n",
        "    'Edad': [ 32, 28, 45, 21 ],\n",
        "    'Ciudad': ['Huancayo', 'El tambo', 'Chilca', 'Cajas']\n",
        "}\n",
        "\n",
        "df= pd.DataFrame(data)\n",
        "print(df)\n",
        "\n",
        "#Calcular la media utilizando numpy\n",
        "\n",
        "medi_edad = np.mean(df['Edad'])\n",
        "print(medi_edad)\n",
        "\n",
        "#Calcular la mediana utilizando numpy\n",
        "\n",
        "mediana = np.median(df['Edad'])\n",
        "print(mediana)\n",
        "\n",
        "#Calcular la desviacion estandar utilizando numpy\n",
        "\n",
        "desviacion = np.std(df['Edad'])\n",
        "print(desviacion)\n",
        "\n",
        "max = df['Edad'].max()\n",
        "min = df['Edad'].min()\n",
        "\n",
        "print(max  , min)\n"
      ],
      "metadata": {
        "colab": {
          "base_uri": "https://localhost:8080/"
        },
        "id": "9fkUDmAxEeVA",
        "outputId": "1649f9ea-7cb5-481c-d079-ab5c3f8e35f3"
      },
      "execution_count": 61,
      "outputs": [
        {
          "output_type": "stream",
          "name": "stdout",
          "text": [
            "  Nombre  Edad    Ciudad\n",
            "0   Jose    32  Huancayo\n",
            "1   Juan    28  El tambo\n",
            "2  Maria    45    Chilca\n",
            "3  Pedro    21     Cajas\n",
            "31.5\n",
            "30.0\n",
            "8.73212459828649\n",
            "45 21\n"
          ]
        }
      ]
    },
    {
      "cell_type": "code",
      "source": [
        "df.loc[df['Edad'].idxmax()]"
      ],
      "metadata": {
        "colab": {
          "base_uri": "https://localhost:8080/",
          "height": 178
        },
        "id": "vCOdcRdlFxpq",
        "outputId": "622864cf-93f6-4a5a-b7ee-29420aef5d10"
      },
      "execution_count": 46,
      "outputs": [
        {
          "output_type": "execute_result",
          "data": {
            "text/plain": [
              "Nombre     Maria\n",
              "Edad          45\n",
              "Ciudad    Chilca\n",
              "Name: 2, dtype: object"
            ],
            "text/html": [
              "<div>\n",
              "<style scoped>\n",
              "    .dataframe tbody tr th:only-of-type {\n",
              "        vertical-align: middle;\n",
              "    }\n",
              "\n",
              "    .dataframe tbody tr th {\n",
              "        vertical-align: top;\n",
              "    }\n",
              "\n",
              "    .dataframe thead th {\n",
              "        text-align: right;\n",
              "    }\n",
              "</style>\n",
              "<table border=\"1\" class=\"dataframe\">\n",
              "  <thead>\n",
              "    <tr style=\"text-align: right;\">\n",
              "      <th></th>\n",
              "      <th>2</th>\n",
              "    </tr>\n",
              "  </thead>\n",
              "  <tbody>\n",
              "    <tr>\n",
              "      <th>Nombre</th>\n",
              "      <td>Maria</td>\n",
              "    </tr>\n",
              "    <tr>\n",
              "      <th>Edad</th>\n",
              "      <td>45</td>\n",
              "    </tr>\n",
              "    <tr>\n",
              "      <th>Ciudad</th>\n",
              "      <td>Chilca</td>\n",
              "    </tr>\n",
              "  </tbody>\n",
              "</table>\n",
              "</div><br><label><b>dtype:</b> object</label>"
            ]
          },
          "metadata": {},
          "execution_count": 46
        }
      ]
    }
  ]
}